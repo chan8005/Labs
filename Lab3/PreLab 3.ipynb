{
 "cells": [
  {
   "cell_type": "markdown",
   "metadata": {},
   "source": [
    "Write a function to calculate the exact number of nuclei at a later time."
   ]
  },
  {
   "cell_type": "code",
   "execution_count": 1,
   "metadata": {},
   "outputs": [
    {
     "data": {
      "text/plain": [
       "2.061153622438558e-07"
      ]
     },
     "execution_count": 1,
     "metadata": {},
     "output_type": "execute_result"
    }
   ],
   "source": [
    "from math import exp\n",
    "lamda= 10\n",
    "initPop= 100\n",
    "\n",
    "def N(t, initPop,lamda):\n",
    "    '''Calculates the number of nuclei at a given time t.\n",
    "    The arguments are time and returns the value of N(number of nuclei)'''\n",
    "    return initPop*exp(-lamda*t)\n",
    "\n",
    "N(2,initPop,lamda)"
   ]
  },
  {
   "cell_type": "markdown",
   "metadata": {},
   "source": [
    "Write a function to calculate the numerical approximation of the number of nuclei at a later time.\n"
   ]
  },
  {
   "cell_type": "code",
   "execution_count": 2,
   "metadata": {},
   "outputs": [
    {
     "ename": "SyntaxError",
     "evalue": "unexpected EOF while parsing (<ipython-input-2-d4f4751d3db9>, line 3)",
     "output_type": "error",
     "traceback": [
      "\u001b[1;36m  File \u001b[1;32m\"<ipython-input-2-d4f4751d3db9>\"\u001b[1;36m, line \u001b[1;32m3\u001b[0m\n\u001b[1;33m    return initPop + (-lamda*(initPop*exp(-lamda*t))\u001b[0m\n\u001b[1;37m                                                    ^\u001b[0m\n\u001b[1;31mSyntaxError\u001b[0m\u001b[1;31m:\u001b[0m unexpected EOF while parsing\n"
     ]
    }
   ],
   "source": [
    "\n",
    "def Napprox(t,):\n",
    "    tInit=0\n",
    "    tNew=0\n",
    "    N1=initPop\n",
    "    for x in SOME RANGE:\n",
    "        N = (N1*exp(-lamda*tInit)) + (-lamda*(N1*exp(-lamda*x))\n",
    "        N1= N\n",
    "        tInit=tNew\n",
    "        "
   ]
  },
  {
   "cell_type": "markdown",
   "metadata": {},
   "source": [
    "Write a docstring for the function (more on that in a moment)."
   ]
  },
  {
   "cell_type": "code",
   "execution_count": null,
   "metadata": {
    "collapsed": true
   },
   "outputs": [],
   "source": []
  },
  {
   "cell_type": "markdown",
   "metadata": {},
   "source": [
    "Plot the output of the exact results on a plot."
   ]
  },
  {
   "cell_type": "code",
   "execution_count": null,
   "metadata": {
    "collapsed": true
   },
   "outputs": [],
   "source": []
  }
 ],
 "metadata": {
  "kernelspec": {
   "display_name": "Python 3",
   "language": "python",
   "name": "python3"
  },
  "language_info": {
   "codemirror_mode": {
    "name": "ipython",
    "version": 3
   },
   "file_extension": ".py",
   "mimetype": "text/x-python",
   "name": "python",
   "nbconvert_exporter": "python",
   "pygments_lexer": "ipython3",
   "version": "3.6.3"
  }
 },
 "nbformat": 4,
 "nbformat_minor": 2
}
