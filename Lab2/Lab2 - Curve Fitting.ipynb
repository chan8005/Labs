{
 "cells": [
  {
   "cell_type": "markdown",
   "metadata": {},
   "source": [
    "# Lab 2 - Intro to Curve Fitting (Scipy/Numpy) and Plotting (Matplotlib)\n",
    "\n",
    "##  The Photoelectric Effect and Projectile Motion\n",
    "------------------------------------------------------------------------------------------------\n",
    "\n",
    "### GitHub:\n",
    "\n",
    "* Fork the Lab repository to your personal GitHub page.\n",
    "* Sign into GitHub desktop (using options in the gearwheel) - open the Git Bash shell\n",
    "* Clone/download the repository to your own directory\n",
    "* Make a new branch, call it Version-0, this is where you will do your work - I am just learning how important this is!!!\n",
    "* Save your work to the local machine regularly.\n",
    "* Commit your work on this branch to GitHub regularly - you don't have to wait until the end of class.\n",
    "* Remember to make additional branches (Version-1 and Version-2) following each pull request (see below).\n",
    "\n",
    "### Grading: \n",
    "Recall we will be doing the cyclic grading cycle for this assignment.  See the complete syllabus - posted on Moodle - some detailed notes on grading and correcting your work.\n",
    "\n",
    "Do your work in this file, so it is easy for me to find/grade.  However, there are good reasons to use multiple files in traditional coding projects, so if you have a good reason to want to make a new file, please talk to me about how to make that work.\n",
    "\n",
    "#### Version-0: \n",
    "Before you leave lab today, commit your changes to GitHub, and open a pull request, comparing your forked Version-0 branch back to my original repository.  That's all.\n",
    "\n",
    "#### Version-1: \n",
    "By Monday 9:15am, clean up any unfinished details.  \n",
    "   * Every code should be well documented with comments.\n",
    "   * Every graph should be well labeled.  If there is more than one data set or curve, add a legend.\n",
    "   * Describe each graph with a short paragraph.  What is data plotted, why is it interesting, what model fits that data, is this the model you expect?  Give a written scientific description in complete sentences.\n",
    "   * Open a pull request on GitHub comparing your forked Version-1 branch back to my original repository.\n",
    "\n",
    "#### Version-2*: \n",
    "After class on Monday, I will post my solution.  \n",
    "   * Compare our solutions, and look for places you could improve your work \n",
    "     * Are your calculations correct?\n",
    "     * Did you understand (and describe) the physics correctly? \n",
    "     * Did you forget anything?\n",
    "   * Make improvements and comments about your changes.  \n",
    "\n",
    "\\*I called this the Final Version in the syllabus.   "
   ]
  },
  {
   "cell_type": "code",
   "execution_count": 1,
   "metadata": {
    "collapsed": true
   },
   "outputs": [],
   "source": [
    "#how to load in plotting to a Jupyter Notebook\n",
    "import matplotlib.pyplot as plt\n",
    "import numpy as np\n",
    "%matplotlib inline"
   ]
  },
  {
   "cell_type": "code",
   "execution_count": 2,
   "metadata": {},
   "outputs": [
    {
     "name": "stdout",
     "output_type": "stream",
     "text": [
      "1.2246467991473532e-16\n",
      "[ 3.14159265  3.14159265  3.14159265  3.14159265]\n",
      "[  1.22464680e-16   1.22464680e-16   1.22464680e-16   1.22464680e-16]\n"
     ]
    }
   ],
   "source": [
    "#A note on functions and array arithmetic - \n",
    "#several of you have noticed problems using the math module functions on numpy arrays.\n",
    "#To avoid this problem, use the numpy versions of the functions.  \n",
    "#For example:\n",
    "import math\n",
    "x=math.pi\n",
    "print(math.sin(x))  #works great - notice what you get - what should you get ? (this is a preview for Ch 4)\n",
    "\n",
    "x_array = math.pi*np.ones(4) #works fine\n",
    "print(x_array)                #works fine\n",
    "#print(math.sin(x_array))     #error\n",
    "print(np.sin(x_array))        #works fine"
   ]
  },
  {
   "cell_type": "markdown",
   "metadata": {},
   "source": [
    "## Part 1: Fitting Millikan's Data w/ Least Squares Method \n",
    "\n",
    "Discuss your algorithm with your lab partner.  Since you'll be writing your own code today, you are welcome to disagree on the details.  On your own computer, code it up, following my suggestions from the pre-lab.  As you produce results, use markdown cells to present and describe your work.  *For example add a markdown cell to: describe the plotted data, comment on how good the fit appears, and how it relates to Einstein's model, the percent difference, etc.*\n",
    "\n",
    "### Your solution to Part 1:\n",
    "------------------------------------------------------------------------------------------------------------------"
   ]
  },
  {
   "cell_type": "markdown",
   "metadata": {},
   "source": [
    "## Part 2: Curve Fitting Tutorial:\n",
    "Open the Jupyter Notebook CurveFit.ipynb and work through the plots and exercises.  It is a very complete set of information that you should remember to consult for this and other classes.  No need to memorize all of the functions.\n",
    "\n",
    "You may want to read Part 3 (below) and jump back and forth between the tutorial and applying each step to Millikan's data.\n",
    "\n",
    "### Submit nothing for this section - However this is a dense document - ask a lot of questions and add comments to the document to help you reuse the functions as you go.  \n",
    "-----------------------------------------------------------------------------------------------"
   ]
  },
  {
   "cell_type": "markdown",
   "metadata": {},
   "source": [
    "## Part 3: Fitting Millikan's Data \n",
    "Use your new found knowledge from the Curve Fitting Tutorial to fit Millikan's Data with the various fitting routines in the tutorial.  Since it is linear data, it is a great test case to get you started.  Try three cases:\n",
    "    * polynomial fits\n",
    "    * linear regression (from the mathematical library scipy)\n",
    "    * curve fits - even though your data fits a straight line, it is worth trying\n",
    "\n",
    "To distinguish your new fits from those in part 1, give your new fit coefficients names that match the fit type.  For instance, back in Part 1, I named my coefficients ```m``` and ```b```.  In this section, I named my polynomial fit coefficients ```m_poly```, ```b_poly```.\n",
    "\n",
    "### Your solution to Part 3:\n",
    "-----------------------------------------------------------------------------------------------"
   ]
  },
  {
   "cell_type": "markdown",
   "metadata": {},
   "source": [
    "## Part 4: Fitting Projectile Motion Data\n",
    "\n",
    "1.  Generate some 1D projectile motion data.  You are encouraged to use the function provided in Weekly Session 2. \n",
    "\n",
    "2. Add some \"noise\" to the data with a random variable. Plot the original function (without noise) and the noisy \"data\" with the scatter() function.  Use some of the tips/tricks on modifying scatter plots that are linked in Weekly Session 2.\n",
    "3. Note that you have two plots to make - $x$ vs. $t$ and $v$ vs. $t$. Use this [link](https://matplotlib.org/gallery/subplots_axes_and_figures/subplot.html#sphx-glr-gallery-subplots-axes-and-figures-subplot-py) to learn how to make subplots.\n",
    "\n",
    "4. Perform a curve fit to your noisy \"data\" and anaylze the error in the fit (i.e. the difference between the fit result and the original (noiseless) function. Compare the fit parameters to your original parameters using the standard deviation in the fit parameters. How close does the fit get to your original parameters? Repeat the analysis to generate new random data and compare again.\n",
    "\n",
    "### Your solution to Part 4:\n",
    "-----------------------------------------------------------------------------------------------"
   ]
  },
  {
   "cell_type": "markdown",
   "metadata": {
    "collapsed": true
   },
   "source": [
    "## Post lab questions\n",
    "\n",
    "Describe briefly Millikan's experiment in your own words.  Be sure to explain these two main points.\n",
    "\n",
    "1.  What is $\\nu$, and why is it the independent variable in the experiment?  Did Millikan use $\\nu$ in the           visible, infrared, or ultraviolet spectrum?  Here is a [reference](http://hyperphysics.phy-astr.gsu.edu/hbase/ems3.html) for light energies.\n",
    "    \n",
    "2.  What does $V$ measure, and why is it the dependent variable in the experiment?  \n",
    "-----------------------------------------------------------------------------------------------"
   ]
  },
  {
   "cell_type": "markdown",
   "metadata": {},
   "source": [
    "## With any remaining time \n",
    "\n",
    "* Play with \"tricking out\" your plots using the matplotlib gallery - which is one of my favorite places on the interwebs. Click on the [link](https://matplotlib.org/gallery/lines_bars_and_markers/scatter_with_legend.html#sphx-glr-gallery-lines-bars-and-markers-scatter-with-legend-py) and use it as a guide to modify your scatter plot.  Once you're done with that, play with the markers as well - you can change their shape! [link](https://matplotlib.org/gallery/lines_bars_and_markers/scatter_symbol.html#sphx-glr-gallery-lines-bars-and-markers-scatter-symbol-py)\n",
    "\n",
    "* Work on HW6 - which includes finishing all of the exercises in Weekly Session 2"
   ]
  }
 ],
 "metadata": {
  "kernelspec": {
   "display_name": "Python 3",
   "language": "python",
   "name": "python3"
  },
  "language_info": {
   "codemirror_mode": {
    "name": "ipython",
    "version": 3
   },
   "file_extension": ".py",
   "mimetype": "text/x-python",
   "name": "python",
   "nbconvert_exporter": "python",
   "pygments_lexer": "ipython3",
   "version": "3.6.3"
  }
 },
 "nbformat": 4,
 "nbformat_minor": 1
}
