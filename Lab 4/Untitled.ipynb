{
 "cells": [
  {
   "cell_type": "code",
   "execution_count": 2,
   "metadata": {},
   "outputs": [
    {
     "name": "stdout",
     "output_type": "stream",
     "text": [
      "8.47151683168\n"
     ]
    }
   ],
   "source": [
    "#exercise 5.1\n",
    "import numpy as np\n",
    "\n",
    "data = np.loadtxt(\"velocities.txt\",float)\n",
    "t = data[:,0] \n",
    "f= data [:,1]\n",
    "\n",
    "N = len(t)\n",
    "a =0 #first cell in array\n",
    "b =-1 #last cell in array\n",
    "\n",
    "\n",
    "def trapezoid(f,N,a,b):\n",
    "    h= (t[b]-t[a])/N\n",
    "    s = 0.5*f[a] + 0.5*f[b]\n",
    "    for k in range (1,N):\n",
    "        s += f[k]\n",
    "    return s*h\n",
    "\n",
    "answer=trapezoid(f,N,a,b)\n",
    "print(answer)\n",
    "\n"
   ]
  },
  {
   "cell_type": "code",
   "execution_count": null,
   "metadata": {
    "collapsed": true
   },
   "outputs": [],
   "source": []
  }
 ],
 "metadata": {
  "kernelspec": {
   "display_name": "Python 3",
   "language": "python",
   "name": "python3"
  },
  "language_info": {
   "codemirror_mode": {
    "name": "ipython",
    "version": 3
   },
   "file_extension": ".py",
   "mimetype": "text/x-python",
   "name": "python",
   "nbconvert_exporter": "python",
   "pygments_lexer": "ipython3",
   "version": "3.6.3"
  }
 },
 "nbformat": 4,
 "nbformat_minor": 2
}
