{
 "cells": [
  {
   "cell_type": "code",
   "execution_count": 30,
   "metadata": {},
   "outputs": [
    {
     "name": "stdout",
     "output_type": "stream",
     "text": [
      "6.49393940226683\n",
      "W is  5.670261331780271e-08\n",
      "error is 2.6284711950259174e-09\n",
      "stefan's Boltsman constant is  5.670261331780271e-08\n"
     ]
    }
   ],
   "source": [
    "import numpy as np\n",
    "from scipy import integrate\n",
    "import pylab as plt\n",
    "%matplotlib inline\n",
    "\n",
    "#constants:\n",
    "h_bar= (6.626*10**-34)/(2*np.pi)\n",
    "kb= 1.38064852 * 10**-23\n",
    "c= 2.998*10**8\n",
    "T= 1 #temp of sun in K\n",
    "a= 10**-10\n",
    "b= np.inf\n",
    "\n",
    "\n",
    "def f(x):\n",
    "    return np.exp(-x)*(x**3)/ (1-np.exp(-x))\n",
    "\n",
    "\n",
    "y,error= integrate.quad(f,a,b)\n",
    "print (y)\n",
    "\n",
    "y *= ((kb**4) * (T**4)) / ((4*np.pi**2) * (c**2) * (h_bar**3))\n",
    "\n",
    "print(\"W is \",y)\n",
    "print (\"error is\",error)\n",
    "\n",
    "#part c confirming stefan-Boltsman consant\n",
    "\n",
    "SB= y/(T**4)\n",
    "print (\"stefan's Boltsman constant is \",SB)\n",
    "    \n",
    "\n",
    "    \n",
    "    "
   ]
  },
  {
   "cell_type": "code",
   "execution_count": null,
   "metadata": {
    "collapsed": true
   },
   "outputs": [],
   "source": []
  }
 ],
 "metadata": {
  "kernelspec": {
   "display_name": "Python 3",
   "language": "python",
   "name": "python3"
  },
  "language_info": {
   "codemirror_mode": {
    "name": "ipython",
    "version": 3
   },
   "file_extension": ".py",
   "mimetype": "text/x-python",
   "name": "python",
   "nbconvert_exporter": "python",
   "pygments_lexer": "ipython3",
   "version": "3.6.3"
  }
 },
 "nbformat": 4,
 "nbformat_minor": 2
}
