{
 "cells": [
  {
   "cell_type": "code",
   "execution_count": 31,
   "metadata": {},
   "outputs": [
    {
     "name": "stdout",
     "output_type": "stream",
     "text": [
      "6.49393940226683\n",
      "W is  5.670261331780271e-08\n",
      "error is 2.6284711950259174e-09\n",
      "stefan's Boltsman constant is  5.670261331780271e-08\n"
     ]
    }
   ],
   "source": [
    "import numpy as np\n",
    "from scipy import integrate\n",
    "import math\n",
    "import pylab as plt\n",
    "%matplotlib inline\n",
    "\n",
    "#constants:\n",
    "h_bar= (6.626*10**-34)/(2*np.pi)\n",
    "kb= 1.38064852 * 10**-23\n",
    "c= 2.998*10**8\n",
    "T= 1 #temp of sun in K\n",
    "a= 10**-10\n",
    "b= np.inf\n",
    "\n",
    "\n",
    "def f(x):\n",
    "    return np.exp(-x)*(x**3)/ (1-np.exp(-x))\n",
    "\n",
    "\n",
    "y,error= integrate.quad(f,a,b)\n",
    "print (y)\n",
    "\n",
    "y *= ((kb**4) * (T**4)) / ((4*np.pi**2) * (c**2) * (h_bar**3))\n",
    "\n",
    "print(\"W is \",y)\n",
    "print (\"error is\",error)\n",
    "\n",
    "#part c confirming stefan-Boltsman consant\n",
    "\n",
    "SB= y/(T**4)\n",
    "print (\"stefan's Boltsman constant is \",SB)\n",
    "    \n",
    "\n",
    "    \n",
    "    "
   ]
  },
  {
   "cell_type": "code",
   "execution_count": 54,
   "metadata": {},
   "outputs": [
    {
     "ename": "SyntaxError",
     "evalue": "invalid syntax (<ipython-input-54-b08855897d89>, line 21)",
     "output_type": "error",
     "traceback": [
      "\u001b[1;36m  File \u001b[1;32m\"<ipython-input-54-b08855897d89>\"\u001b[1;36m, line \u001b[1;32m21\u001b[0m\n\u001b[1;33m    else:\u001b[0m\n\u001b[1;37m       ^\u001b[0m\n\u001b[1;31mSyntaxError\u001b[0m\u001b[1;31m:\u001b[0m invalid syntax\n"
     ]
    }
   ],
   "source": [
    "#problem 5.19\n",
    "import cmath\n",
    "import matplotlib.pyplot as plt\n",
    "\n",
    "\n",
    "#constants:\n",
    "separation= 20*10**-6 # units of meters\n",
    "lamda= 500*10**-9 #units of meters\n",
    "f= 1 # units of meter\n",
    "screen=10*10**-2 #in meters\n",
    "constant=(1j*2*math.pi)/(lamda*f)\n",
    "w= 10*separation\n",
    "a= w/2\n",
    "b=-w/2\n",
    "\n",
    "\n",
    "def q(u,beta=false):\n",
    "    if beta==true:\n",
    "        beta= separation/(2*math.pi)\n",
    "        return (math.sin((separation/math.pi)*u)**2)*(math.sin((beta*u)**2)\n",
    "    else:\n",
    "        return math.sin((separation/math.pi)*u)**2\n",
    "\n",
    "def integrand(u,beta=false):\n",
    "    if beta=true:\n",
    "        return math.sqrt(q(u, beta=true))*cmath.exp(constant*x*u) \n",
    "    else:\n",
    "        return math.sqrt(q(u))*cmath.exp(constant*x*u)\n",
    "    \n",
    "def simpson(f, a, b, N):\n",
    "    h=(b-a)/N\n",
    "    evensum = 0\n",
    "    oddsum = 0\n",
    "    for k in range(1,N):\n",
    "        x = a+ k*h\n",
    "        if k%2 == 0:\n",
    "            evensum += f(x)\n",
    "           \n",
    "        else:\n",
    "            oddsum += f(x)\n",
    "    \n",
    "            \n",
    "    return (h/3)*(f(a)+f(b)+2*evensum+4*oddsum)\n",
    "\n",
    "xvals=[]\n",
    "yvals=[]\n",
    "zvals=[]\n",
    "for n in np.linspace(-screen/2,screen/2,100):\n",
    "    x=n\n",
    "    xvals.append(x)\n",
    "    I=abs(simpson(integrand,a,b,100))**2\n",
    "    I2=abs(simpson(integrand(u,beta=true),a,b,100))**2\n",
    "    yvals.append(I)\n",
    "    zvals.append(I2)\n",
    "    \n",
    "\n",
    "plt.plot(xvals,yvals)"
   ]
  },
  {
   "cell_type": "code",
   "execution_count": null,
   "metadata": {
    "collapsed": true
   },
   "outputs": [],
   "source": []
  },
  {
   "cell_type": "code",
   "execution_count": null,
   "metadata": {
    "collapsed": true
   },
   "outputs": [],
   "source": []
  }
 ],
 "metadata": {
  "kernelspec": {
   "display_name": "Python 3",
   "language": "python",
   "name": "python3"
  },
  "language_info": {
   "codemirror_mode": {
    "name": "ipython",
    "version": 3
   },
   "file_extension": ".py",
   "mimetype": "text/x-python",
   "name": "python",
   "nbconvert_exporter": "python",
   "pygments_lexer": "ipython3",
   "version": "3.6.3"
  }
 },
 "nbformat": 4,
 "nbformat_minor": 2
}
