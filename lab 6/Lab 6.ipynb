{
 "cells": [
  {
   "cell_type": "code",
   "execution_count": 26,
   "metadata": {},
   "outputs": [
    {
     "name": "stdout",
     "output_type": "stream",
     "text": [
      "6.49393940226683\n",
      "W is  5.670261331780271e-08\n",
      "error is 2.6284711950259174e-09\n",
      "stefan's Boltsman constant is  5.670261331780271e-08\n"
     ]
    }
   ],
   "source": [
    "import numpy as np\n",
    "from scipy import integrate\n",
    "import math\n",
    "import pylab as plt\n",
    "%matplotlib inline\n",
    "\n",
    "#constants:\n",
    "h_bar= (6.626*10**-34)/(2*np.pi)\n",
    "kb= 1.38064852 * 10**-23\n",
    "c= 2.998*10**8\n",
    "T= 1 #temp of sun in K\n",
    "a= 10**-10\n",
    "b= np.inf\n",
    "\n",
    "\n",
    "def f(x):\n",
    "    return np.exp(-x)*(x**3)/ (1-np.exp(-x))\n",
    "\n",
    "\n",
    "y,error= integrate.quad(f,a,b)\n",
    "print (y)\n",
    "\n",
    "y *= ((kb**4) * (T**4)) / ((4*np.pi**2) * (c**2) * (h_bar**3))\n",
    "\n",
    "print(\"W is \",y)\n",
    "print (\"error is\",error)\n",
    "\n",
    "#part c confirming stefan-Boltsman consant\n",
    "\n",
    "SB= y/(T**4)\n",
    "print (\"stefan's Boltsman constant is \",SB)\n",
    "    \n",
    "\n",
    "    \n",
    "    "
   ]
  },
  {
   "cell_type": "code",
   "execution_count": 36,
   "metadata": {},
   "outputs": [
    {
     "data": {
      "text/plain": [
       "Text(0,0.5,'Intensity(W/m^2)')"
      ]
     },
     "execution_count": 36,
     "metadata": {},
     "output_type": "execute_result"
    },
    {
     "data": {
      "image/png": "[encoded data removed]",
      "text/plain": [
       "<matplotlib.figure.Figure at 0x172ce62d3c8>"
      ]
     },
     "metadata": {},
     "output_type": "display_data"
    }
   ],
   "source": [
    "import cmath\n",
    "import matplotlib.pyplot as plt\n",
    "\n",
    "% matplotlib inline\n",
    "\n",
    "\n",
    "#Constants:\n",
    "separation= 20e-6             #seperation of slits on grating units= meters\n",
    "w= 10*separation              #width of screen in meters\n",
    "alpha= math.pi /separation\n",
    "beta= alpha/2\n",
    "f = 1                         #focal length in meter\n",
    "lamda = 5e-7                  #wavelength of incident light in meters\n",
    "\n",
    "screen=10e-2                  #width of screen in meters\n",
    "\n",
    "#constants for simpsons\n",
    "N = 100                       #number of steps to take\n",
    "a = -w/2                      #lower boundary\n",
    "b = w/2                       #upper boundary\n",
    "h = ((b-a)/N)                 #size of step\n",
    "\n",
    "\n",
    "def q(u):\n",
    "    \"\"\"Calculates the fraction of inicdent light that the grating lets through.\n",
    "    \n",
    "    arguments:\n",
    "    u = distance along the grating\n",
    "    \n",
    "    returns: scalar float value that represents the fraction \n",
    "    of incident light that the grating lets through\"\"\"# return vlaue meaning taken from McDermott's docstring\n",
    "    return math.sin(alpha*u)**2\n",
    "\n",
    "def qbeta(u):\n",
    "    \"\"\"Calculates the fraction of inicdent light that the grating lets through.\n",
    "    \n",
    "    arguments:\n",
    "    u = distance along the grating\n",
    "    \n",
    "    returns: scalar float value that represents the fraction \n",
    "    of incident light that the grating lets through\"\"\"# return vlaue meaning taken from McDermott's docstring\n",
    "    return (math.sin(alpha*u)**2)*(math.sin(beta*u)**2)\n",
    "\n",
    "def integrand(func,u,x):\n",
    "    \"\"\"Calculate integrand of light intensity\n",
    "    arguments:\n",
    "    func = function for calculating kernel of diffraction grating\n",
    "    u = distance along grating\n",
    "    x = distance along screen \n",
    "    \n",
    "    returns: scalar float value that represents the fraction \n",
    "    of incident light that the grating lets through\"\"\" # return vlaue meaning taken from McDermott's docstring\n",
    "    return math.sqrt(func(u))*cmath.exp(1j*2*math.pi*x*u/(lamda*f))\n",
    "\n",
    "\n",
    "x_vals = np.linspace(-screen/2,screen/2,100)   \n",
    "y_vals = []\n",
    "for i in x_vals:                            #calculates light intensity (y_vals) as a function of x (distance along screen)\n",
    "    s =(integrand(q,a,i)/3) + (integrand(q,b,i)/3) #uses simpson's rule\n",
    "    for k in range(1,100):                       \n",
    "        if(k % 2 == 1):\n",
    "            s += 4/3*integrand(q,a+(k)*h,i)\n",
    "        else:\n",
    "            s += 2/3*integrand(q,a+(k)*h,i)\n",
    "    y_vals.append(abs(s)**2)\n",
    "    \n",
    "plt.plot(x_vals,y_vals)\n",
    "plt.xlim(-0.05,0.05)\n",
    "plt.xlabel(\"x-value(m)\")\n",
    "plt.ylabel(\"Intensity(W/m^2)\")\n"
   ]
  },
  {
   "cell_type": "code",
   "execution_count": 37,
   "metadata": {},
   "outputs": [
    {
     "data": {
      "text/plain": [
       "Text(0,0.5,'Intensity(W/m^2)')"
      ]
     },
     "execution_count": 37,
     "metadata": {},
     "output_type": "execute_result"
    },
    {
     "data": {
      "image/png": "[encoded data removed]",
      "text/plain": [
       "<matplotlib.figure.Figure at 0x172ce598860>"
      ]
     },
     "metadata": {},
     "output_type": "display_data"
    }
   ],
   "source": [
    "#constants\n",
    "\n",
    "\n",
    "\n",
    "\n",
    "\n",
    "\n",
    "\n",
    "z_vals = []\n",
    "for i in x_vals:\n",
    "    s =(integrand(qbeta,a,i)/3) + (integrand(qbeta,b,i)/3)\n",
    "    for k in range(1,100):\n",
    "        if(k % 2 == 1):\n",
    "            s += 4/3*integrand(qbeta,a+(k)*h,i)\n",
    "        else:\n",
    "            s += 2/3*integrand(qbeta,a+(k)*h,i)\n",
    "    z_vals.append(abs(s)**2)\n",
    "    \n",
    "plt.plot(x_vals,z_vals)\n",
    "plt.plot(x_vals,y_vals)\n",
    "plt.xlim(-0.05,0.05)\n",
    "plt.xlabel(\"x-value(m)\")\n",
    "plt.ylabel(\"Intensity(W/m^2)\")"
   ]
  },
  {
   "cell_type": "code",
   "execution_count": null,
   "metadata": {
    "collapsed": true
   },
   "outputs": [],
   "source": []
  }
 ],
 "metadata": {
  "kernelspec": {
   "display_name": "Python 3",
   "language": "python",
   "name": "python3"
  },
  "language_info": {
   "codemirror_mode": {
    "name": "ipython",
    "version": 3
   },
   "file_extension": ".py",
   "mimetype": "text/x-python",
   "name": "python",
   "nbconvert_exporter": "python",
   "pygments_lexer": "ipython3",
   "version": "3.6.3"
  }
 },
 "nbformat": 4,
 "nbformat_minor": 2
}
